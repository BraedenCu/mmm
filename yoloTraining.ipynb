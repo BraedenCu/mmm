{
 "metadata": {
  "language_info": {
   "codemirror_mode": {
    "name": "ipython",
    "version": 3
   },
   "file_extension": ".py",
   "mimetype": "text/x-python",
   "name": "python",
   "nbconvert_exporter": "python",
   "pygments_lexer": "ipython3",
   "version": "3.8.5"
  },
  "orig_nbformat": 2,
  "kernelspec": {
   "name": "python385jvsc74a57bd0bb4287bda702db53a77299208f215aa4a0cd26201d50cb9f9e4305d1cecf3212",
   "display_name": "Python 3.8.5 64-bit ('base': conda)"
  }
 },
 "nbformat": 4,
 "nbformat_minor": 2,
 "cells": [
  {
   "cell_type": "code",
   "execution_count": 2,
   "metadata": {},
   "outputs": [],
   "source": [
    "from pathlib import Path\n",
    "from tqdm import tqdm\n",
    "import numpy as np\n",
    "import json\n",
    "import urllib\n",
    "import PIL.Image as Image\n",
    "import cv2\n",
    "import torch\n",
    "import torchvision\n",
    "from IPython.display import display\n",
    "from sklearn.model_selection import train_test_split\n",
    "import seaborn as sns\n",
    "from pylab import rcParams\n",
    "import matplotlib.pyplot as plt\n",
    "from matplotlib import rc"
   ]
  },
  {
   "cell_type": "code",
   "execution_count": 3,
   "metadata": {},
   "outputs": [
    {
     "output_type": "stream",
     "name": "stdout",
     "text": [
      "Cloning into 'yolov5'...\n",
      "remote: Enumerating objects: 6209, done.\u001b[K\n",
      "remote: Counting objects: 100% (229/229), done.\u001b[K\n",
      "remote: Compressing objects: 100% (139/139), done.\u001b[K\n",
      "remote: Total 6209 (delta 143), reused 152 (delta 90), pack-reused 5980\u001b[K\n",
      "Receiving objects: 100% (6209/6209), 8.74 MiB | 14.79 MiB/s, done.\n",
      "Resolving deltas: 100% (4237/4237), done.\n",
      "/home/dev/dev/robotics/Vex-AI-2021-Code/yolov5/yolov5\n"
     ]
    }
   ],
   "source": [
    "#clone yolov5 repo\n",
    "!git clone https://github.com/ultralytics/yolov5 "
   ]
  },
  {
   "cell_type": "code",
   "execution_count": null,
   "metadata": {},
   "outputs": [],
   "source": [
    "#config files, one for dataset and one for model "
   ]
  },
  {
   "cell_type": "code",
   "execution_count": 5,
   "metadata": {},
   "outputs": [
    {
     "output_type": "stream",
     "name": "stdout",
     "text": [
      "collectImages.py  my-detection.py\t      vexaiObjDetection.ipynb  yolov5\n",
      "dataset\t\t  README.md\t\t      vexBrainComm.py\n",
      "dataset.yaml\t  realtimeObjectDetection.py  xmlToYolo.py\n",
      "modelConfig.yaml  VexAI01\t\t      yoloTraining.ipynb\n",
      "python3: can't open file 'train.py': [Errno 2] No such file or directory\n"
     ]
    }
   ],
   "source": [
    "!cd yolov5\n",
    "!ls\n",
    "!python3 train.py --img 640 --batch 3 --epochs 5 --data modelConfig.yaml --weights yolov5s.pt"
   ]
  },
  {
   "cell_type": "code",
   "execution_count": null,
   "metadata": {},
   "outputs": [],
   "source": []
  }
 ]
}